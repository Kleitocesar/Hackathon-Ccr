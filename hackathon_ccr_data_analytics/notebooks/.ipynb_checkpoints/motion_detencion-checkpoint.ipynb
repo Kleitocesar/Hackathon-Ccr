{
 "cells": [
  {
   "cell_type": "code",
   "execution_count": null,
   "metadata": {},
   "outputs": [],
   "source": [
    "import warnings\n",
    "warnings.filterwarnings(\"ignore\")\n",
    "import numpy as np # linear algebra\n",
    "import pandas as pd # data processing, CSV file I/O (e.g. pd.read_csv)\n",
    "import matplotlib.pyplot as plt\n",
    "%matplotlib inline\n",
    "from glob import glob\n",
    "import sklearn\n",
    "import tensorflow as tf\n",
    "import tensorflowjs as tfjs\n",
    "import os\n",
    "\n",
    "%load_ext autotime\n"
   ]
  },
  {
   "cell_type": "code",
   "execution_count": null,
   "metadata": {},
   "outputs": [],
   "source": [
    "import numpy as np\n",
    "import pandas as pd\n",
    "import keras\n",
    "from keras.models import Sequential\n",
    "from keras.layers import BatchNormalization, LSTM, Activation, Dense, Dropout, GRU,Conv1D,MaxPooling1D\n",
    "from keras.initializers import Constant\n",
    "from keras.callbacks import EarlyStopping\n",
    "from keras.utils import to_categorical\n",
    "from keras.optimizers import Adam\n",
    "\n",
    "from sklearn.preprocessing import StandardScaler\n",
    "from sklearn.model_selection import train_test_split\n",
    "from sklearn.metrics import accuracy_score, classification_report, confusion_matrix\n",
    "import matplotlib.pyplot as plt\n",
    "%matplotlib inline\n",
    "\n",
    "import pickle\n",
    "import itertools"
   ]
  },
  {
   "cell_type": "code",
   "execution_count": null,
   "metadata": {},
   "outputs": [],
   "source": [
    "pd.set_option('display.max_columns', None)"
   ]
  },
  {
   "cell_type": "code",
   "execution_count": null,
   "metadata": {},
   "outputs": [],
   "source": [
    "# Deinfe integer encoding for the 6 classes:\n",
    "activity_to_code = {'dws': 1, 'ups': 2, 'sit': 3, 'std': 4, 'wlk': 5, 'jog': 6}\n",
    "code_to_activity = {v:k for k,v in activity_to_code.items()}"
   ]
  },
  {
   "cell_type": "code",
   "execution_count": null,
   "metadata": {},
   "outputs": [],
   "source": [
    "code_to_activity = {v: k for k, v in activity_to_code.items()}"
   ]
  },
  {
   "cell_type": "code",
   "execution_count": null,
   "metadata": {},
   "outputs": [],
   "source": [
    "def load_raw_data(data_directory_path):\n",
    "    \"\"\"\n",
    "    Given a path to the motionsense-dataset directory, loop through the different CSVs and concatenate them \n",
    "    to one pandas DataFrame. Join with demographic data, and return the DataFrame.\n",
    "    \"\"\"\n",
    "    subjects_data_directory_path = os.path.join(dataset_path, \"data_subjects_info.csv\")\n",
    "    \n",
    "    # Load demographic data of subjects:\n",
    "    subject_data = pd.read_csv(subjects_data_directory_path).rename(columns={'code':'subject'}) # rename for clarity\n",
    "    subject_data['subject'] = subject_data.subject.astype(str)\n",
    "\n",
    "    # Load data from sensor:\n",
    "    motion_data_directory_path = os.path.join(dataset_path, r\"A_DeviceMotion_data\")\n",
    "    dirs = os.listdir(motion_data_directory_path)\n",
    "    dfs = []\n",
    "    for d in dirs:\n",
    "        activity_name, experiment_id = d.split(\"_\")\n",
    "        for subject in os.listdir(os.path.join(motion_data_directory_path, d)):\n",
    "            filepath = os.path.join(os.path.join(motion_data_directory_path, d), subject)\n",
    "            df = pd.read_csv(filepath, index_col=0)\n",
    "            df['subject'] = subject.split(\".\")[0].split(\"_\")[1] # keep only the subject's numerical i.d.\n",
    "            df['activity'] = activity_to_code[activity_name]\n",
    "            df['experiment_id'] = int(experiment_id)\n",
    "            df['experiment_step'] =  np.arange(0, len(df)) # assign a numerical step number for every measurement in the experiment\n",
    "            dfs.append(df)\n",
    "\n",
    "    motion_data = pd.concat(dfs)\n",
    "    \n",
    "    # Join demographic data to final dataframe:\n",
    "    final_df = motion_data.merge(subject_data, on=['subject'])\n",
    "    \n",
    "    return final_df, subject_data"
   ]
  },
  {
   "cell_type": "code",
   "execution_count": null,
   "metadata": {},
   "outputs": [],
   "source": [
    "dataset_path = r\"../data\" # Assuming here dataset is in cwd.\n",
    "raw_df, subject_data = load_raw_data(dataset_path)"
   ]
  },
  {
   "cell_type": "code",
   "execution_count": null,
   "metadata": {},
   "outputs": [],
   "source": [
    "MOTION_SENSOR_COLUMNS = ['attitude.roll', 'attitude.pitch', 'attitude.yaw', 'gravity.x', 'gravity.y', 'gravity.z', \n",
    "                         'rotationRate.x', 'rotationRate.y', 'rotationRate.z', 'userAcceleration.x', 'userAcceleration.y',\n",
    "                        'userAcceleration.z']\n",
    "DEMOGRAPHIC_FEATURES = ['weight', 'height', 'age', 'gender']"
   ]
  },
  {
   "cell_type": "code",
   "execution_count": null,
   "metadata": {},
   "outputs": [],
   "source": [
    "raw_df[MOTION_SENSOR_COLUMNS].describe(percentiles=[0.001,0.01,0.25,0.5,0.75,0.95,0.99, 0.999]).round(3)"
   ]
  },
  {
   "cell_type": "code",
   "execution_count": 32,
   "metadata": {},
   "outputs": [
    {
     "data": {
      "image/png": "[encoded data removed]",
      "text/plain": [
       "<Figure size 720x576 with 12 Axes>"
      ]
     },
     "metadata": {
      "needs_background": "light"
     },
     "output_type": "display_data"
    },
    {
     "name": "stdout",
     "output_type": "stream",
     "text": [
      "time: 2.26 s\n"
     ]
    }
   ],
   "source": [
    "samp = raw_df.sample(10**5) # plotting a sample, for run-time considerations\n",
    "fig, ax = plt.subplots(3, 4, sharex='col', sharey='row', figsize=(10, 8))\n",
    "\n",
    "m=0\n",
    "for i in range(3):\n",
    "    for j in range(4):\n",
    "        colname = MOTION_SENSOR_COLUMNS[m]\n",
    "        samp[colname].plot(kind='hist', ax=ax[i,j], bins=20, title=colname, density=True, xlim=(-4,4))\n",
    "        m += 1\n",
    "plt.show()"
   ]
  },
  {
   "cell_type": "code",
   "execution_count": 33,
   "metadata": {},
   "outputs": [
    {
     "data": {
      "text/html": [
       "<div>\n",
       "<style scoped>\n",
       "    .dataframe tbody tr th:only-of-type {\n",
       "        vertical-align: middle;\n",
       "    }\n",
       "\n",
       "    .dataframe tbody tr th {\n",
       "        vertical-align: top;\n",
       "    }\n",
       "\n",
       "    .dataframe thead th {\n",
       "        text-align: right;\n",
       "    }\n",
       "</style>\n",
       "<table border=\"1\" class=\"dataframe\">\n",
       "  <thead>\n",
       "    <tr style=\"text-align: right;\">\n",
       "      <th></th>\n",
       "      <th>weight</th>\n",
       "      <th>height</th>\n",
       "      <th>age</th>\n",
       "    </tr>\n",
       "  </thead>\n",
       "  <tbody>\n",
       "    <tr>\n",
       "      <th>count</th>\n",
       "      <td>1412865.00</td>\n",
       "      <td>1412865.00</td>\n",
       "      <td>1412865.00</td>\n",
       "    </tr>\n",
       "    <tr>\n",
       "      <th>mean</th>\n",
       "      <td>72.12</td>\n",
       "      <td>173.99</td>\n",
       "      <td>28.83</td>\n",
       "    </tr>\n",
       "    <tr>\n",
       "      <th>std</th>\n",
       "      <td>15.98</td>\n",
       "      <td>8.80</td>\n",
       "      <td>5.30</td>\n",
       "    </tr>\n",
       "    <tr>\n",
       "      <th>min</th>\n",
       "      <td>48.00</td>\n",
       "      <td>161.00</td>\n",
       "      <td>18.00</td>\n",
       "    </tr>\n",
       "    <tr>\n",
       "      <th>25%</th>\n",
       "      <td>60.00</td>\n",
       "      <td>164.00</td>\n",
       "      <td>25.00</td>\n",
       "    </tr>\n",
       "    <tr>\n",
       "      <th>50%</th>\n",
       "      <td>72.00</td>\n",
       "      <td>175.00</td>\n",
       "      <td>28.00</td>\n",
       "    </tr>\n",
       "    <tr>\n",
       "      <th>75%</th>\n",
       "      <td>78.00</td>\n",
       "      <td>180.00</td>\n",
       "      <td>31.00</td>\n",
       "    </tr>\n",
       "    <tr>\n",
       "      <th>max</th>\n",
       "      <td>102.00</td>\n",
       "      <td>190.00</td>\n",
       "      <td>46.00</td>\n",
       "    </tr>\n",
       "  </tbody>\n",
       "</table>\n",
       "</div>"
      ],
      "text/plain": [
       "           weight      height         age\n",
       "count  1412865.00  1412865.00  1412865.00\n",
       "mean        72.12      173.99       28.83\n",
       "std         15.98        8.80        5.30\n",
       "min         48.00      161.00       18.00\n",
       "25%         60.00      164.00       25.00\n",
       "50%         72.00      175.00       28.00\n",
       "75%         78.00      180.00       31.00\n",
       "max        102.00      190.00       46.00"
      ]
     },
     "execution_count": 33,
     "metadata": {},
     "output_type": "execute_result"
    },
    {
     "name": "stdout",
     "output_type": "stream",
     "text": [
      "time: 109 ms\n"
     ]
    }
   ],
   "source": [
    "raw_df[['weight','height','age']].describe().round(2)"
   ]
  },
  {
   "cell_type": "code",
   "execution_count": 39,
   "metadata": {},
   "outputs": [
    {
     "data": {
      "text/html": [
       "<div>\n",
       "<style scoped>\n",
       "    .dataframe tbody tr th:only-of-type {\n",
       "        vertical-align: middle;\n",
       "    }\n",
       "\n",
       "    .dataframe tbody tr th {\n",
       "        vertical-align: top;\n",
       "    }\n",
       "\n",
       "    .dataframe thead th {\n",
       "        text-align: right;\n",
       "    }\n",
       "</style>\n",
       "<table border=\"1\" class=\"dataframe\">\n",
       "  <thead>\n",
       "    <tr style=\"text-align: right;\">\n",
       "      <th></th>\n",
       "      <th>subject</th>\n",
       "      <th>activity</th>\n",
       "      <th>userAcceleration.x</th>\n",
       "    </tr>\n",
       "  </thead>\n",
       "  <tbody>\n",
       "    <tr>\n",
       "      <th>0</th>\n",
       "      <td>1</td>\n",
       "      <td>1</td>\n",
       "      <td>5105</td>\n",
       "    </tr>\n",
       "    <tr>\n",
       "      <th>1</th>\n",
       "      <td>1</td>\n",
       "      <td>2</td>\n",
       "      <td>6336</td>\n",
       "    </tr>\n",
       "    <tr>\n",
       "      <th>2</th>\n",
       "      <td>1</td>\n",
       "      <td>3</td>\n",
       "      <td>20584</td>\n",
       "    </tr>\n",
       "    <tr>\n",
       "      <th>3</th>\n",
       "      <td>1</td>\n",
       "      <td>4</td>\n",
       "      <td>12747</td>\n",
       "    </tr>\n",
       "    <tr>\n",
       "      <th>4</th>\n",
       "      <td>1</td>\n",
       "      <td>5</td>\n",
       "      <td>11112</td>\n",
       "    </tr>\n",
       "    <tr>\n",
       "      <th>...</th>\n",
       "      <td>...</td>\n",
       "      <td>...</td>\n",
       "      <td>...</td>\n",
       "    </tr>\n",
       "    <tr>\n",
       "      <th>139</th>\n",
       "      <td>9</td>\n",
       "      <td>2</td>\n",
       "      <td>6492</td>\n",
       "    </tr>\n",
       "    <tr>\n",
       "      <th>140</th>\n",
       "      <td>9</td>\n",
       "      <td>3</td>\n",
       "      <td>16206</td>\n",
       "    </tr>\n",
       "    <tr>\n",
       "      <th>141</th>\n",
       "      <td>9</td>\n",
       "      <td>4</td>\n",
       "      <td>9829</td>\n",
       "    </tr>\n",
       "    <tr>\n",
       "      <th>142</th>\n",
       "      <td>9</td>\n",
       "      <td>5</td>\n",
       "      <td>14192</td>\n",
       "    </tr>\n",
       "    <tr>\n",
       "      <th>143</th>\n",
       "      <td>9</td>\n",
       "      <td>6</td>\n",
       "      <td>4919</td>\n",
       "    </tr>\n",
       "  </tbody>\n",
       "</table>\n",
       "<p>144 rows × 3 columns</p>\n",
       "</div>"
      ],
      "text/plain": [
       "    subject  activity  userAcceleration.x\n",
       "0         1         1                5105\n",
       "1         1         2                6336\n",
       "2         1         3               20584\n",
       "3         1         4               12747\n",
       "4         1         5               11112\n",
       "..      ...       ...                 ...\n",
       "139       9         2                6492\n",
       "140       9         3               16206\n",
       "141       9         4                9829\n",
       "142       9         5               14192\n",
       "143       9         6                4919\n",
       "\n",
       "[144 rows x 3 columns]"
      ]
     },
     "execution_count": 39,
     "metadata": {},
     "output_type": "execute_result"
    },
    {
     "name": "stdout",
     "output_type": "stream",
     "text": [
      "time: 113 ms\n"
     ]
    }
   ],
   "source": [
    "raw_df.groupby(['subject', 'activity'])['userAcceleration.x'].count().reset_index()"
   ]
  },
  {
   "cell_type": "markdown",
   "metadata": {},
   "source": [
    "## Map activities"
   ]
  },
  {
   "cell_type": "code",
   "execution_count": 43,
   "metadata": {},
   "outputs": [
    {
     "name": "stdout",
     "output_type": "stream",
     "text": [
      "time: 44 ms\n"
     ]
    }
   ],
   "source": [
    "raw_df['activity_name'] = raw_df.activity.map(code_to_activity)"
   ]
  },
  {
   "cell_type": "code",
   "execution_count": 45,
   "metadata": {},
   "outputs": [
    {
     "data": {
      "text/plain": [
       "array(['dws', 'jog', 'sit', 'std', 'ups', 'wlk'], dtype=object)"
      ]
     },
     "execution_count": 45,
     "metadata": {},
     "output_type": "execute_result"
    },
    {
     "name": "stdout",
     "output_type": "stream",
     "text": [
      "time: 36 ms\n"
     ]
    }
   ],
   "source": [
    "raw_df['activity_name'].unique()"
   ]
  },
  {
   "cell_type": "code",
   "execution_count": 46,
   "metadata": {},
   "outputs": [
    {
     "name": "stdout",
     "output_type": "stream",
     "text": [
      "time: 1 ms\n"
     ]
    }
   ],
   "source": [
    "macro_activity = {'sit':'sedentary','std':'sedentary','wlk':'lm','dws':'lm','ups':'lm',\n",
    "                     'jog':'vigorous'}"
   ]
  },
  {
   "cell_type": "code",
   "execution_count": 47,
   "metadata": {},
   "outputs": [
    {
     "name": "stdout",
     "output_type": "stream",
     "text": [
      "time: 84 ms\n"
     ]
    }
   ],
   "source": [
    "raw_df['macro_activity'] = raw_df.activity_name.map(macro_activity)"
   ]
  },
  {
   "cell_type": "code",
   "execution_count": 64,
   "metadata": {},
   "outputs": [
    {
     "name": "stdout",
     "output_type": "stream",
     "text": [
      "time: 91 ms\n"
     ]
    }
   ],
   "source": [
    "# create integer version in order to do 1-hot encoding\n",
    "raw_df['pa_label']=raw_df.macro_activity.map({'sedentary':0,'lm':1,'vigorous':2})"
   ]
  },
  {
   "cell_type": "code",
   "execution_count": 65,
   "metadata": {},
   "outputs": [
    {
     "data": {
      "text/plain": [
       "array([ 1,  2,  3,  4,  5,  6,  7,  8,  9, 10, 11, 12, 13, 14, 15, 16, 17,\n",
       "       18, 19, 20, 21, 22, 23, 24])"
      ]
     },
     "execution_count": 65,
     "metadata": {},
     "output_type": "execute_result"
    },
    {
     "name": "stdout",
     "output_type": "stream",
     "text": [
      "time: 33 ms\n"
     ]
    }
   ],
   "source": [
    "np.sort(raw_df.subject.unique().astype(int))"
   ]
  },
  {
   "cell_type": "code",
   "execution_count": 66,
   "metadata": {},
   "outputs": [
    {
     "data": {
      "text/html": [
       "<div>\n",
       "<style scoped>\n",
       "    .dataframe tbody tr th:only-of-type {\n",
       "        vertical-align: middle;\n",
       "    }\n",
       "\n",
       "    .dataframe tbody tr th {\n",
       "        vertical-align: top;\n",
       "    }\n",
       "\n",
       "    .dataframe thead th {\n",
       "        text-align: right;\n",
       "    }\n",
       "</style>\n",
       "<table border=\"1\" class=\"dataframe\">\n",
       "  <thead>\n",
       "    <tr style=\"text-align: right;\">\n",
       "      <th></th>\n",
       "      <th>attitude.roll</th>\n",
       "      <th>attitude.pitch</th>\n",
       "      <th>attitude.yaw</th>\n",
       "      <th>gravity.x</th>\n",
       "      <th>gravity.y</th>\n",
       "      <th>gravity.z</th>\n",
       "      <th>rotationRate.x</th>\n",
       "      <th>rotationRate.y</th>\n",
       "      <th>rotationRate.z</th>\n",
       "      <th>userAcceleration.x</th>\n",
       "      <th>userAcceleration.y</th>\n",
       "      <th>userAcceleration.z</th>\n",
       "      <th>subject</th>\n",
       "      <th>activity</th>\n",
       "      <th>experiment_id</th>\n",
       "      <th>experiment_step</th>\n",
       "      <th>weight</th>\n",
       "      <th>height</th>\n",
       "      <th>age</th>\n",
       "      <th>gender</th>\n",
       "      <th>activity_name</th>\n",
       "      <th>macro_activity</th>\n",
       "      <th>pa_label</th>\n",
       "    </tr>\n",
       "  </thead>\n",
       "  <tbody>\n",
       "    <tr>\n",
       "      <th>0</th>\n",
       "      <td>1.528132</td>\n",
       "      <td>-0.733896</td>\n",
       "      <td>0.696372</td>\n",
       "      <td>0.741895</td>\n",
       "      <td>0.669768</td>\n",
       "      <td>-0.031672</td>\n",
       "      <td>0.316738</td>\n",
       "      <td>0.778180</td>\n",
       "      <td>1.082764</td>\n",
       "      <td>0.294894</td>\n",
       "      <td>-0.184493</td>\n",
       "      <td>0.377542</td>\n",
       "      <td>1</td>\n",
       "      <td>1</td>\n",
       "      <td>1</td>\n",
       "      <td>0</td>\n",
       "      <td>102</td>\n",
       "      <td>188</td>\n",
       "      <td>46</td>\n",
       "      <td>1</td>\n",
       "      <td>dws</td>\n",
       "      <td>lm</td>\n",
       "      <td>1</td>\n",
       "    </tr>\n",
       "    <tr>\n",
       "      <th>1</th>\n",
       "      <td>1.527992</td>\n",
       "      <td>-0.716987</td>\n",
       "      <td>0.677762</td>\n",
       "      <td>0.753099</td>\n",
       "      <td>0.657116</td>\n",
       "      <td>-0.032255</td>\n",
       "      <td>0.842032</td>\n",
       "      <td>0.424446</td>\n",
       "      <td>0.643574</td>\n",
       "      <td>0.219405</td>\n",
       "      <td>0.035846</td>\n",
       "      <td>0.114866</td>\n",
       "      <td>1</td>\n",
       "      <td>1</td>\n",
       "      <td>1</td>\n",
       "      <td>1</td>\n",
       "      <td>102</td>\n",
       "      <td>188</td>\n",
       "      <td>46</td>\n",
       "      <td>1</td>\n",
       "      <td>dws</td>\n",
       "      <td>lm</td>\n",
       "      <td>1</td>\n",
       "    </tr>\n",
       "    <tr>\n",
       "      <th>2</th>\n",
       "      <td>1.527765</td>\n",
       "      <td>-0.706999</td>\n",
       "      <td>0.670951</td>\n",
       "      <td>0.759611</td>\n",
       "      <td>0.649555</td>\n",
       "      <td>-0.032707</td>\n",
       "      <td>-0.138143</td>\n",
       "      <td>-0.040741</td>\n",
       "      <td>0.343563</td>\n",
       "      <td>0.010714</td>\n",
       "      <td>0.134701</td>\n",
       "      <td>-0.167808</td>\n",
       "      <td>1</td>\n",
       "      <td>1</td>\n",
       "      <td>1</td>\n",
       "      <td>2</td>\n",
       "      <td>102</td>\n",
       "      <td>188</td>\n",
       "      <td>46</td>\n",
       "      <td>1</td>\n",
       "      <td>dws</td>\n",
       "      <td>lm</td>\n",
       "      <td>1</td>\n",
       "    </tr>\n",
       "    <tr>\n",
       "      <th>3</th>\n",
       "      <td>1.516768</td>\n",
       "      <td>-0.704678</td>\n",
       "      <td>0.675735</td>\n",
       "      <td>0.760709</td>\n",
       "      <td>0.647788</td>\n",
       "      <td>-0.041140</td>\n",
       "      <td>-0.025005</td>\n",
       "      <td>-1.048717</td>\n",
       "      <td>0.035860</td>\n",
       "      <td>-0.008389</td>\n",
       "      <td>0.136788</td>\n",
       "      <td>0.094958</td>\n",
       "      <td>1</td>\n",
       "      <td>1</td>\n",
       "      <td>1</td>\n",
       "      <td>3</td>\n",
       "      <td>102</td>\n",
       "      <td>188</td>\n",
       "      <td>46</td>\n",
       "      <td>1</td>\n",
       "      <td>dws</td>\n",
       "      <td>lm</td>\n",
       "      <td>1</td>\n",
       "    </tr>\n",
       "    <tr>\n",
       "      <th>4</th>\n",
       "      <td>1.493941</td>\n",
       "      <td>-0.703918</td>\n",
       "      <td>0.672994</td>\n",
       "      <td>0.760062</td>\n",
       "      <td>0.647210</td>\n",
       "      <td>-0.058530</td>\n",
       "      <td>0.114253</td>\n",
       "      <td>-0.912890</td>\n",
       "      <td>0.047341</td>\n",
       "      <td>0.199441</td>\n",
       "      <td>0.353996</td>\n",
       "      <td>-0.044299</td>\n",
       "      <td>1</td>\n",
       "      <td>1</td>\n",
       "      <td>1</td>\n",
       "      <td>4</td>\n",
       "      <td>102</td>\n",
       "      <td>188</td>\n",
       "      <td>46</td>\n",
       "      <td>1</td>\n",
       "      <td>dws</td>\n",
       "      <td>lm</td>\n",
       "      <td>1</td>\n",
       "    </tr>\n",
       "  </tbody>\n",
       "</table>\n",
       "</div>"
      ],
      "text/plain": [
       "   attitude.roll  attitude.pitch  attitude.yaw  gravity.x  gravity.y  \\\n",
       "0       1.528132       -0.733896      0.696372   0.741895   0.669768   \n",
       "1       1.527992       -0.716987      0.677762   0.753099   0.657116   \n",
       "2       1.527765       -0.706999      0.670951   0.759611   0.649555   \n",
       "3       1.516768       -0.704678      0.675735   0.760709   0.647788   \n",
       "4       1.493941       -0.703918      0.672994   0.760062   0.647210   \n",
       "\n",
       "   gravity.z  rotationRate.x  rotationRate.y  rotationRate.z  \\\n",
       "0  -0.031672        0.316738        0.778180        1.082764   \n",
       "1  -0.032255        0.842032        0.424446        0.643574   \n",
       "2  -0.032707       -0.138143       -0.040741        0.343563   \n",
       "3  -0.041140       -0.025005       -1.048717        0.035860   \n",
       "4  -0.058530        0.114253       -0.912890        0.047341   \n",
       "\n",
       "   userAcceleration.x  userAcceleration.y  userAcceleration.z subject  \\\n",
       "0            0.294894           -0.184493            0.377542       1   \n",
       "1            0.219405            0.035846            0.114866       1   \n",
       "2            0.010714            0.134701           -0.167808       1   \n",
       "3           -0.008389            0.136788            0.094958       1   \n",
       "4            0.199441            0.353996           -0.044299       1   \n",
       "\n",
       "   activity  experiment_id  experiment_step  weight  height  age  gender  \\\n",
       "0         1              1                0     102     188   46       1   \n",
       "1         1              1                1     102     188   46       1   \n",
       "2         1              1                2     102     188   46       1   \n",
       "3         1              1                3     102     188   46       1   \n",
       "4         1              1                4     102     188   46       1   \n",
       "\n",
       "  activity_name macro_activity  pa_label  \n",
       "0           dws             lm         1  \n",
       "1           dws             lm         1  \n",
       "2           dws             lm         1  \n",
       "3           dws             lm         1  \n",
       "4           dws             lm         1  "
      ]
     },
     "execution_count": 66,
     "metadata": {},
     "output_type": "execute_result"
    },
    {
     "name": "stdout",
     "output_type": "stream",
     "text": [
      "time: 12 ms\n"
     ]
    }
   ],
   "source": [
    "raw_df.head()"
   ]
  },
  {
   "cell_type": "markdown",
   "metadata": {},
   "source": [
    "# Slide data"
   ]
  },
  {
   "cell_type": "code",
   "execution_count": 145,
   "metadata": {},
   "outputs": [
    {
     "name": "stdout",
     "output_type": "stream",
     "text": [
      "time: 2 ms\n"
     ]
    }
   ],
   "source": [
    "def window(df, segment_size=100):\n",
    "    X_cols = ['userAcceleration.x','userAcceleration.y','userAcceleration.z']\n",
    "    all_x = []\n",
    "    all_y = []\n",
    "    subjects = df.subject.unique().tolist()\n",
    "    activities = df.activity.unique().tolist()\n",
    "    for subject in subjects:\n",
    "        for activity in activities:\n",
    "            df_aux = df.query(f\"subject == '{subject}' and activity == {activity}\")\n",
    "            win_count = int(df_aux.shape[0]/segment_size)\n",
    "            data_x = np.zeros((win_count,segment_size,df_aux[X_cols].shape[1]))\n",
    "            data_y = np.zeros(win_count)\n",
    "            for c in range(win_count):\n",
    "                start_idx = c*segment_size\n",
    "                end_idx = start_idx + segment_size\n",
    "                data_x[c,:,:] = df_aux[X_cols][start_idx:end_idx].values\n",
    "                data_y[:] = df_aux['pa_label'].unique()[0]\n",
    "            all_x.append(data_x)\n",
    "            all_y.append(data_y)\n",
    "    X = np.concatenate(all_x,axis=0)\n",
    "    y = np.concatenate(all_y,axis=0)\n",
    "    return X, y"
   ]
  },
  {
   "cell_type": "code",
   "execution_count": 166,
   "metadata": {},
   "outputs": [
    {
     "data": {
      "text/plain": [
       "(8668, 100, 3)"
      ]
     },
     "execution_count": 166,
     "metadata": {},
     "output_type": "execute_result"
    },
    {
     "name": "stdout",
     "output_type": "stream",
     "text": [
      "time: 12 ms\n"
     ]
    }
   ],
   "source": [
    "X_train.shape"
   ]
  },
  {
   "cell_type": "code",
   "execution_count": 155,
   "metadata": {},
   "outputs": [
    {
     "name": "stdout",
     "output_type": "stream",
     "text": [
      "time: 12.2 s\n"
     ]
    }
   ],
   "source": [
    "columns =['subject','activity','userAcceleration.x','userAcceleration.y','userAcceleration.z', 'pa_label']\n",
    "train_mask = raw_df.subject.astype(int) <= 15\n",
    "out_mask = (raw_df.subject.astype(int) >= 16) & (raw_df.subject.astype(int) <= 20)\n",
    "helout_mask = raw_df.subject.astype(int) > 20\n",
    "\n",
    "train = raw_df[columns][train_mask]\n",
    "test = raw_df[columns][test_mask]\n",
    "held = raw_df[columns][helout_mask]\n",
    "\n",
    "X_train, y_train = window(train)\n",
    "X_test, y_test = window(test)\n",
    "X_held, y_held = window(held)"
   ]
  },
  {
   "cell_type": "code",
   "execution_count": 156,
   "metadata": {},
   "outputs": [
    {
     "name": "stdout",
     "output_type": "stream",
     "text": [
      "time: 1e+03 µs\n"
     ]
    }
   ],
   "source": [
    "y_train = to_categorical(y_train, 3)\n",
    "y_test = to_categorical(y_test, 3)\n",
    "y_held = to_categorical(y_held, 3)"
   ]
  },
  {
   "cell_type": "code",
   "execution_count": 157,
   "metadata": {},
   "outputs": [
    {
     "name": "stdout",
     "output_type": "stream",
     "text": [
      "time: 527 ms\n"
     ]
    }
   ],
   "source": [
    "# create model instance\n",
    "model = Sequential()\n",
    "\n",
    "# add model layers\n",
    "model.add(Conv1D(filters=50, kernel_size=3,input_shape=(X_train.shape[1], 3),activation='relu'))\n",
    "model.add(MaxPooling1D(pool_size=4,padding='valid'))\n",
    "model.add(BatchNormalization())\n",
    "model.add(Conv1D(filters=50, kernel_size=3,activation='relu'))\n",
    "model.add(MaxPooling1D(pool_size=2,padding='valid'))\n",
    "model.add(BatchNormalization())\n",
    "model.add(GRU(\n",
    "    units=64,\n",
    "    activation='tanh',\n",
    "    recurrent_activation='sigmoid',\n",
    "    use_bias=True,\n",
    "    kernel_initializer='glorot_uniform',\n",
    "    return_sequences=True,  # because the next layer is also GRU\n",
    "    dropout=0.0, #0.303\n",
    "    recurrent_dropout=0.0, #0.458 \n",
    "    ))   \n",
    "model.add(GRU(\n",
    "    units=64,\n",
    "    activation='tanh',\n",
    "    recurrent_activation='sigmoid',\n",
    "    use_bias=True,\n",
    "    kernel_initializer='glorot_uniform',\n",
    "    return_sequences=False,  # because the next layer is dense \n",
    "#     dropout=0.2, # 0.196\n",
    "     recurrent_dropout=0.2  # 0.073\n",
    "    ))\n",
    "model.add(Dropout(0.1))\n",
    "model.add(Dense(3, kernel_initializer='uniform',activation='softmax'))"
   ]
  },
  {
   "cell_type": "code",
   "execution_count": 158,
   "metadata": {},
   "outputs": [
    {
     "name": "stdout",
     "output_type": "stream",
     "text": [
      "Model: \"sequential_5\"\n",
      "_________________________________________________________________\n",
      "Layer (type)                 Output Shape              Param #   \n",
      "=================================================================\n",
      "conv1d_8 (Conv1D)            (None, 98, 50)            500       \n",
      "_________________________________________________________________\n",
      "max_pooling1d_8 (MaxPooling1 (None, 24, 50)            0         \n",
      "_________________________________________________________________\n",
      "batch_normalization_7 (Batch (None, 24, 50)            200       \n",
      "_________________________________________________________________\n",
      "conv1d_9 (Conv1D)            (None, 22, 50)            7550      \n",
      "_________________________________________________________________\n",
      "max_pooling1d_9 (MaxPooling1 (None, 11, 50)            0         \n",
      "_________________________________________________________________\n",
      "batch_normalization_8 (Batch (None, 11, 50)            200       \n",
      "_________________________________________________________________\n",
      "gru_7 (GRU)                  (None, 11, 64)            22080     \n",
      "_________________________________________________________________\n",
      "gru_8 (GRU)                  (None, 64)                24768     \n",
      "_________________________________________________________________\n",
      "dropout_4 (Dropout)          (None, 64)                0         \n",
      "_________________________________________________________________\n",
      "dense_4 (Dense)              (None, 3)                 195       \n",
      "=================================================================\n",
      "Total params: 55,493\n",
      "Trainable params: 55,293\n",
      "Non-trainable params: 200\n",
      "_________________________________________________________________\n",
      "time: 60 ms\n"
     ]
    }
   ],
   "source": [
    "model.compile(loss='categorical_crossentropy', \n",
    "             optimizer=Adam(lr=0.001), \n",
    "              metrics=['accuracy'])\n",
    "\n",
    "model.summary()"
   ]
  },
  {
   "cell_type": "code",
   "execution_count": 159,
   "metadata": {},
   "outputs": [
    {
     "name": "stdout",
     "output_type": "stream",
     "text": [
      "Train on 8668 samples, validate on 3561 samples\n",
      "Epoch 1/10\n",
      "8668/8668 [==============================] - 6s 648us/step - loss: 0.1033 - accuracy: 0.9700 - val_loss: 0.8984 - val_accuracy: 0.5291\n",
      "Epoch 2/10\n",
      "8668/8668 [==============================] - 5s 528us/step - loss: 0.0307 - accuracy: 0.9917 - val_loss: 0.0660 - val_accuracy: 0.9921\n",
      "Epoch 3/10\n",
      "8668/8668 [==============================] - 5s 528us/step - loss: 0.0228 - accuracy: 0.9938 - val_loss: 0.0682 - val_accuracy: 0.9916\n",
      "Epoch 4/10\n",
      "8668/8668 [==============================] - 4s 512us/step - loss: 0.0201 - accuracy: 0.9942 - val_loss: 0.0457 - val_accuracy: 0.9949\n",
      "Epoch 5/10\n",
      "8668/8668 [==============================] - 5s 523us/step - loss: 0.0160 - accuracy: 0.9945 - val_loss: 0.0376 - val_accuracy: 0.9952\n",
      "Epoch 6/10\n",
      "8668/8668 [==============================] - 5s 523us/step - loss: 0.0107 - accuracy: 0.9971 - val_loss: 0.0362 - val_accuracy: 0.9949\n",
      "Epoch 7/10\n",
      "8668/8668 [==============================] - 5s 525us/step - loss: 0.0124 - accuracy: 0.9963 - val_loss: 0.0898 - val_accuracy: 0.9795\n",
      "Epoch 8/10\n",
      "8668/8668 [==============================] - 5s 524us/step - loss: 0.0086 - accuracy: 0.9972 - val_loss: 0.0342 - val_accuracy: 0.9958\n",
      "Epoch 9/10\n",
      "8668/8668 [==============================] - 5s 528us/step - loss: 0.0072 - accuracy: 0.9982 - val_loss: 0.0442 - val_accuracy: 0.9935\n",
      "Epoch 10/10\n",
      "8668/8668 [==============================] - 5s 533us/step - loss: 0.0075 - accuracy: 0.9984 - val_loss: 0.0423 - val_accuracy: 0.9949\n",
      "time: 48.6 s\n"
     ]
    }
   ],
   "source": [
    "result = model.fit(X_train, y_train, epochs=10, batch_size=25, \n",
    "                   validation_data=(X_test,y_test), #callbacks=[early_stop]) #, model_saver]\n",
    "                  )"
   ]
  },
  {
   "cell_type": "code",
   "execution_count": 160,
   "metadata": {},
   "outputs": [
    {
     "name": "stdout",
     "output_type": "stream",
     "text": [
      "time: 2 ms\n"
     ]
    }
   ],
   "source": [
    "# source: https://datascience.stackexchange.com/questions/40067/confusion-matrix-three-classes-python\n",
    "def plot_confusion_matrix(cm, classes,\n",
    "                          normalize=False,\n",
    "                          title='Confusion matrix',\n",
    "                          cmap=plt.cm.Blues):\n",
    "    \"\"\"\n",
    "    This function prints and plots the confusion matrix.\n",
    "    Normalization can be applied by setting `normalize=True`.\n",
    "    \"\"\"\n",
    "    if normalize:\n",
    "        cm = cm.astype('float') / cm.sum(axis=1)[:, np.newaxis]\n",
    "        print(\"Normalized confusion matrix\")\n",
    "    \n",
    "    \n",
    "    plt.rcParams.update({'font.size': 18})\n",
    "    plt.figure(figsize=(12,8))\n",
    "    plt.imshow(cm, interpolation='nearest', cmap=cmap)\n",
    "    plt.title(title)\n",
    "    plt.colorbar()\n",
    "    tick_marks = np.arange(len(classes))\n",
    "    plt.xticks(tick_marks, classes, rotation=45)\n",
    "    plt.yticks(tick_marks, classes)\n",
    "\n",
    "    fmt = '.2f' if normalize else 'd'\n",
    "    thresh = cm.max() / 2.\n",
    "    for i, j in itertools.product(range(cm.shape[0]), range(cm.shape[1])):\n",
    "        plt.text(j, i, format(cm[i, j], fmt),\n",
    "                 horizontalalignment=\"center\",\n",
    "                 color=\"white\" if cm[i, j] > thresh else \"black\")\n",
    "\n",
    "    plt.ylabel('True label')\n",
    "    plt.xlabel('Predicted label')\n",
    "    plt.tight_layout();"
   ]
  },
  {
   "cell_type": "markdown",
   "metadata": {},
   "source": [
    "# Evaluate test"
   ]
  },
  {
   "cell_type": "code",
   "execution_count": 161,
   "metadata": {},
   "outputs": [
    {
     "name": "stdout",
     "output_type": "stream",
     "text": [
      "              precision    recall  f1-score   support\n",
      "\n",
      "   sedentary       1.00      1.00      1.00      1602\n",
      "          lm       0.99      1.00      0.99      1612\n",
      "    vigorous       0.99      0.97      0.98       347\n",
      "\n",
      "    accuracy                           0.99      3561\n",
      "   macro avg       0.99      0.99      0.99      3561\n",
      "weighted avg       0.99      0.99      0.99      3561\n",
      "\n",
      "time: 718 ms\n"
     ]
    }
   ],
   "source": [
    "# get accuracy measures per class\n",
    "# source: https://stackoverflow.com/questions/45930750/how-to-output-per-class-accuracy-in-keras\n",
    "Y_test = np.argmax(y_test, axis=1) # Convert one-hot to index\n",
    "y_pred = model.predict_classes(X_test)\n",
    "print(classification_report(Y_test, y_pred, target_names=[\"sedentary\",\"lm\",\"vigorous\"]))"
   ]
  },
  {
   "cell_type": "code",
   "execution_count": 162,
   "metadata": {},
   "outputs": [
    {
     "data": {
      "text/plain": [
       "<Figure size 432x288 with 0 Axes>"
      ]
     },
     "metadata": {},
     "output_type": "display_data"
    },
    {
     "data": {
      "image/png": "[encoded data removed]",
      "text/plain": [
       "<Figure size 864x576 with 2 Axes>"
      ]
     },
     "metadata": {
      "needs_background": "light"
     },
     "output_type": "display_data"
    },
    {
     "name": "stdout",
     "output_type": "stream",
     "text": [
      "time: 177 ms\n"
     ]
    }
   ],
   "source": [
    "np.set_printoptions(precision=2)\n",
    "cm = confusion_matrix(Y_test, \n",
    "                      y_pred)\n",
    "# Plot non-normalized confusion matrix\n",
    "plt.figure()\n",
    "plot_confusion_matrix(cm, \n",
    "                      classes=[\"sedentary\",\"light-moderate\",\"vigorous\"],\n",
    "                      title='Confusion matrix, Test Data, Neural Net Model',\n",
    "                        cmap='YlOrRd');"
   ]
  },
  {
   "cell_type": "markdown",
   "metadata": {},
   "source": [
    "# Evaluate held"
   ]
  },
  {
   "cell_type": "code",
   "execution_count": 163,
   "metadata": {},
   "outputs": [
    {
     "name": "stdout",
     "output_type": "stream",
     "text": [
      "              precision    recall  f1-score   support\n",
      "\n",
      "   sedentary       1.00      0.99      1.00      1011\n",
      "          lm       0.99      1.00      0.99      1055\n",
      "    vigorous       0.99      0.98      0.99       228\n",
      "\n",
      "    accuracy                           0.99      2294\n",
      "   macro avg       0.99      0.99      0.99      2294\n",
      "weighted avg       0.99      0.99      0.99      2294\n",
      "\n",
      "time: 235 ms\n"
     ]
    }
   ],
   "source": [
    "Y_held = np.argmax(y_held, axis=1) #Convert one-hot to index\n",
    "y_pred = model.predict_classes(X_held)\n",
    "print(classification_report(Y_held, y_pred, target_names=[\"sedentary\",\"lm\",\"vigorous\"]))"
   ]
  },
  {
   "cell_type": "code",
   "execution_count": 164,
   "metadata": {},
   "outputs": [
    {
     "data": {
      "text/plain": [
       "<Figure size 432x288 with 0 Axes>"
      ]
     },
     "metadata": {},
     "output_type": "display_data"
    },
    {
     "data": {
      "image/png": "[encoded data removed]",
      "text/plain": [
       "<Figure size 864x576 with 2 Axes>"
      ]
     },
     "metadata": {
      "needs_background": "light"
     },
     "output_type": "display_data"
    },
    {
     "name": "stdout",
     "output_type": "stream",
     "text": [
      "time: 165 ms\n"
     ]
    }
   ],
   "source": [
    "np.set_printoptions(precision=2)\n",
    "cm = confusion_matrix(Y_held, \n",
    "                      y_pred)\n",
    "# Plot non-normalized confusion matrix\n",
    "plt.figure()\n",
    "plot_confusion_matrix(cm, \n",
    "                      classes=[\"sedentary\",\"light-moderate\",\"vigorous\"],\n",
    "                      title='Confusion matrix, Held Data, Neural Net Model',\n",
    "                        cmap='YlOrRd');"
   ]
  },
  {
   "cell_type": "markdown",
   "metadata": {},
   "source": [
    "# Save model"
   ]
  },
  {
   "cell_type": "code",
   "execution_count": 165,
   "metadata": {},
   "outputs": [
    {
     "name": "stdout",
     "output_type": "stream",
     "text": [
      "time: 759 ms\n"
     ]
    }
   ],
   "source": [
    "model.save(\"activity_detection.h5\", include_optimizer=False)"
   ]
  },
  {
   "cell_type": "code",
   "execution_count": 170,
   "metadata": {},
   "outputs": [
    {
     "ename": "ModuleNotFoundError",
     "evalue": "No module named 'tensorflow.compat'",
     "output_type": "error",
     "traceback": [
      "\u001b[1;31m---------------------------------------------------------------------------\u001b[0m",
      "\u001b[1;31mModuleNotFoundError\u001b[0m                       Traceback (most recent call last)",
      "\u001b[1;32m<ipython-input-170-e91b9d5db072>\u001b[0m in \u001b[0;36m<module>\u001b[1;34m\u001b[0m\n\u001b[1;32m----> 1\u001b[1;33m \u001b[1;32mimport\u001b[0m \u001b[0mtensorflowjs\u001b[0m \u001b[1;32mas\u001b[0m \u001b[0mtfjs\u001b[0m\u001b[1;33m\u001b[0m\u001b[1;33m\u001b[0m\u001b[0m\n\u001b[0m",
      "\u001b[1;32m~\\Anaconda3\\lib\\site-packages\\tensorflowjs\\__init__.py\u001b[0m in \u001b[0;36m<module>\u001b[1;34m\u001b[0m\n\u001b[0;32m     19\u001b[0m \u001b[1;33m\u001b[0m\u001b[0m\n\u001b[0;32m     20\u001b[0m \u001b[1;31m# pylint: disable=unused-imports\u001b[0m\u001b[1;33m\u001b[0m\u001b[1;33m\u001b[0m\u001b[1;33m\u001b[0m\u001b[0m\n\u001b[1;32m---> 21\u001b[1;33m \u001b[1;32mfrom\u001b[0m \u001b[0mtensorflowjs\u001b[0m \u001b[1;32mimport\u001b[0m \u001b[0mconverters\u001b[0m\u001b[1;33m\u001b[0m\u001b[1;33m\u001b[0m\u001b[0m\n\u001b[0m\u001b[0;32m     22\u001b[0m \u001b[1;32mfrom\u001b[0m \u001b[0mtensorflowjs\u001b[0m \u001b[1;32mimport\u001b[0m \u001b[0mquantization\u001b[0m\u001b[1;33m\u001b[0m\u001b[1;33m\u001b[0m\u001b[0m\n\u001b[0;32m     23\u001b[0m \u001b[1;32mfrom\u001b[0m \u001b[0mtensorflowjs\u001b[0m \u001b[1;32mimport\u001b[0m \u001b[0mversion\u001b[0m\u001b[1;33m\u001b[0m\u001b[1;33m\u001b[0m\u001b[0m\n",
      "\u001b[1;32m~\\Anaconda3\\lib\\site-packages\\tensorflowjs\\converters\\__init__.py\u001b[0m in \u001b[0;36m<module>\u001b[1;34m\u001b[0m\n\u001b[0;32m     20\u001b[0m \u001b[1;31m# pylint: disable=unused-imports,line-too-long\u001b[0m\u001b[1;33m\u001b[0m\u001b[1;33m\u001b[0m\u001b[1;33m\u001b[0m\u001b[0m\n\u001b[0;32m     21\u001b[0m \u001b[1;32mfrom\u001b[0m \u001b[0mtensorflowjs\u001b[0m\u001b[1;33m.\u001b[0m\u001b[0mconverters\u001b[0m\u001b[1;33m.\u001b[0m\u001b[0mkeras_h5_conversion\u001b[0m \u001b[1;32mimport\u001b[0m \u001b[0msave_keras_model\u001b[0m\u001b[1;33m\u001b[0m\u001b[1;33m\u001b[0m\u001b[0m\n\u001b[1;32m---> 22\u001b[1;33m \u001b[1;32mfrom\u001b[0m \u001b[0mtensorflowjs\u001b[0m\u001b[1;33m.\u001b[0m\u001b[0mconverters\u001b[0m\u001b[1;33m.\u001b[0m\u001b[0mkeras_tfjs_loader\u001b[0m \u001b[1;32mimport\u001b[0m \u001b[0mdeserialize_keras_model\u001b[0m\u001b[1;33m\u001b[0m\u001b[1;33m\u001b[0m\u001b[0m\n\u001b[0m\u001b[0;32m     23\u001b[0m \u001b[1;32mfrom\u001b[0m \u001b[0mtensorflowjs\u001b[0m\u001b[1;33m.\u001b[0m\u001b[0mconverters\u001b[0m\u001b[1;33m.\u001b[0m\u001b[0mkeras_tfjs_loader\u001b[0m \u001b[1;32mimport\u001b[0m \u001b[0mload_keras_model\u001b[0m\u001b[1;33m\u001b[0m\u001b[1;33m\u001b[0m\u001b[0m\n\u001b[0;32m     24\u001b[0m \u001b[1;32mfrom\u001b[0m \u001b[0mtensorflowjs\u001b[0m\u001b[1;33m.\u001b[0m\u001b[0mconverters\u001b[0m\u001b[1;33m.\u001b[0m\u001b[0mtf_saved_model_conversion_v2\u001b[0m \u001b[1;32mimport\u001b[0m \u001b[0mconvert_tf_saved_model\u001b[0m\u001b[1;33m\u001b[0m\u001b[1;33m\u001b[0m\u001b[0m\n",
      "\u001b[1;32m~\\Anaconda3\\lib\\site-packages\\tensorflowjs\\converters\\keras_tfjs_loader.py\u001b[0m in \u001b[0;36m<module>\u001b[1;34m\u001b[0m\n\u001b[0;32m     24\u001b[0m \u001b[1;33m\u001b[0m\u001b[0m\n\u001b[0;32m     25\u001b[0m \u001b[1;32mimport\u001b[0m \u001b[0msix\u001b[0m\u001b[1;33m\u001b[0m\u001b[1;33m\u001b[0m\u001b[0m\n\u001b[1;32m---> 26\u001b[1;33m \u001b[1;32mimport\u001b[0m \u001b[0mtensorflow\u001b[0m\u001b[1;33m.\u001b[0m\u001b[0mcompat\u001b[0m\u001b[1;33m.\u001b[0m\u001b[0mv2\u001b[0m \u001b[1;32mas\u001b[0m \u001b[0mtf\u001b[0m\u001b[1;33m\u001b[0m\u001b[1;33m\u001b[0m\u001b[0m\n\u001b[0m\u001b[0;32m     27\u001b[0m \u001b[1;33m\u001b[0m\u001b[0m\n\u001b[0;32m     28\u001b[0m \u001b[1;32mfrom\u001b[0m \u001b[0mtensorflowjs\u001b[0m \u001b[1;32mimport\u001b[0m \u001b[0mread_weights\u001b[0m\u001b[1;33m\u001b[0m\u001b[1;33m\u001b[0m\u001b[0m\n",
      "\u001b[1;31mModuleNotFoundError\u001b[0m: No module named 'tensorflow.compat'"
     ]
    },
    {
     "name": "stdout",
     "output_type": "stream",
     "text": [
      "time: 57 ms\n"
     ]
    }
   ],
   "source": [
    "import tensorflowjs as tfjs"
   ]
  },
  {
   "cell_type": "code",
   "execution_count": null,
   "metadata": {},
   "outputs": [],
   "source": []
  }
 ],
 "metadata": {
  "kernelspec": {
   "display_name": "Python 3",
   "language": "python",
   "name": "python3"
  },
  "language_info": {
   "codemirror_mode": {
    "name": "ipython",
    "version": 3
   },
   "file_extension": ".py",
   "mimetype": "text/x-python",
   "name": "python",
   "nbconvert_exporter": "python",
   "pygments_lexer": "ipython3",
   "version": "3.7.7"
  }
 },
 "nbformat": 4,
 "nbformat_minor": 4
}
